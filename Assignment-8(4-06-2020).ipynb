{
 "cells": [
  {
   "cell_type": "markdown",
   "metadata": {},
   "source": [
    "# CSE-221710308039-VINAY"
   ]
  },
  {
   "cell_type": "code",
   "execution_count": 2,
   "metadata": {},
   "outputs": [
    {
     "name": "stdout",
     "output_type": "stream",
     "text": [
      "[12 13 14 15 16 17 18 19 20 21 22 23 24 25 26 27 28 29 30 31 32 33 34 35\n",
      " 36 37]\n",
      "[37 36 35 34 33 32 31 30 29 28 27 26 25 24 23 22 21 20 19 18 17 16 15 14\n",
      " 13 12]\n"
     ]
    }
   ],
   "source": [
    "#1.Write a NumPy program to reverse an array (first element becomes last). \n",
    "import numpy as np\n",
    "x=np.arange(12,38)\n",
    "print(x)\n",
    "print(x[::-1])"
   ]
  },
  {
   "cell_type": "code",
   "execution_count": 12,
   "metadata": {},
   "outputs": [
    {
     "name": "stdout",
     "output_type": "stream",
     "text": [
      "[[1. 1. 1. 1. 1.]\n",
      " [1. 0. 0. 0. 1.]\n",
      " [1. 0. 0. 0. 1.]\n",
      " [1. 0. 0. 0. 1.]\n",
      " [1. 1. 1. 1. 1.]]\n"
     ]
    }
   ],
   "source": [
    "#2.Write a NumPy program to create a 2d array with 1 on the border and 0 inside.\n",
    "o=np.ones((5,5))\n",
    "o[1:4,1:4]=0\n",
    "print(o)"
   ]
  },
  {
   "cell_type": "code",
   "execution_count": 15,
   "metadata": {},
   "outputs": [
    {
     "name": "stdout",
     "output_type": "stream",
     "text": [
      "array1:  [ 0 10 20 40 60]\n",
      "array2:  [ 0 40]\n",
      "[ True False False  True False]\n"
     ]
    }
   ],
   "source": [
    "#3.Write a NumPy program to test whether each element of a 1-D array is also present in a second array.\n",
    "arr1=np.array([0,10,20,40,60])\n",
    "print(\"array1: \",arr1)\n",
    "arr2=np.array([0,40])\n",
    "print(\"array2: \",arr2)\n",
    "result=np.in1d(arr1,arr2)\n",
    "print(result)"
   ]
  },
  {
   "cell_type": "code",
   "execution_count": 17,
   "metadata": {},
   "outputs": [
    {
     "name": "stdout",
     "output_type": "stream",
     "text": [
      "array1:  [ 0 10 20 40 60 80]\n",
      "array2:  [10, 30, 40, 50, 70]\n",
      "Set difference between two arrays: [ 0 20 60 80]\n"
     ]
    }
   ],
   "source": [
    "#4.Write a NumPy program to find the set difference of two arrays. \n",
    "#The set difference will return the sorted, unique values in array1 that are not in array2.\n",
    "\n",
    "arr3 = np.array([0, 10, 20, 40, 60, 80])\n",
    "print(\"array1: \",arr3)\n",
    "arr4 = [10, 30, 40, 50, 70]\n",
    "print(\"array2: \",arr4)\n",
    "print(\"Set difference between two arrays:\",np.setdiff1d(arr3, arr4))"
   ]
  },
  {
   "cell_type": "code",
   "execution_count": 18,
   "metadata": {},
   "outputs": [
    {
     "name": "stdout",
     "output_type": "stream",
     "text": [
      "[[4 0 0 0]\n",
      " [0 5 0 0]\n",
      " [0 0 6 0]\n",
      " [0 0 0 8]]\n"
     ]
    }
   ],
   "source": [
    "#5.Write a NumPy program to create a 2-D array whose diagonal equals [4, 5, 6, 8] and 0's \n",
    "arr6= np.diagflat([4, 5, 6, 8])\n",
    "print(arr6)"
   ]
  },
  {
   "cell_type": "code",
   "execution_count": null,
   "metadata": {},
   "outputs": [],
   "source": []
  }
 ],
 "metadata": {
  "kernelspec": {
   "display_name": "Python 3",
   "language": "python",
   "name": "python3"
  },
  "language_info": {
   "codemirror_mode": {
    "name": "ipython",
    "version": 3
   },
   "file_extension": ".py",
   "mimetype": "text/x-python",
   "name": "python",
   "nbconvert_exporter": "python",
   "pygments_lexer": "ipython3",
   "version": "3.7.4"
  }
 },
 "nbformat": 4,
 "nbformat_minor": 2
}
