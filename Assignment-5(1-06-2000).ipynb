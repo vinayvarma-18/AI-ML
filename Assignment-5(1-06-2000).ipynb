{
 "cells": [
  {
   "cell_type": "markdown",
   "metadata": {},
   "source": [
    "## CSE-221710308039-VINAY"
   ]
  },
  {
   "cell_type": "code",
   "execution_count": 1,
   "metadata": {},
   "outputs": [
    {
     "name": "stdout",
     "output_type": "stream",
     "text": [
      "sleepyraju46\\\n",
      "type 'yes' for another password else type 'no' to remain with the same one: \n",
      " yes\n",
      "sealhorse62&\n",
      "type 'yes' for another password else type 'no' to remain with the same one: \n",
      " yes\n",
      "slidejohn96^\n",
      "type 'yes' for another password else type 'no' to remain with the same one: \n",
      " yes\n",
      "slidetom67`\n",
      "type 'yes' for another password else type 'no' to remain with the same one: \n",
      " yes\n",
      "counterjohn55>\n",
      "type 'yes' for another password else type 'no' to remain with the same one: \n",
      " no\n"
     ]
    }
   ],
   "source": [
    "import random\n",
    "import string\n",
    "x=\"yes\"\n",
    "while(x==\"yes\"):\n",
    "    str1=str(random.randint(1,100))\n",
    "    pun=string.punctuation\n",
    "    str2=random.choice(pun)\n",
    "    verb=[\"seal\",\"slide\",\"counter\",\"ratify\",\"blind\",\"warrant\",\"sleepy\",\"defend\",\"dance\"]\n",
    "    noun=[\"john\",\"michael\",\"raju\",\"paris\",\"tom\",\"singh\",\"horse\",\"jenny\",\"jack\",\"sofie\"]\n",
    "    print(random.choice(verb)+random.choice(noun)+str1+str2)\n",
    "    x=input(\"type 'yes' for another password else type 'no' to remain with the same one: \\n \")\n"
   ]
  },
  {
   "cell_type": "code",
   "execution_count": null,
   "metadata": {},
   "outputs": [],
   "source": []
  }
 ],
 "metadata": {
  "kernelspec": {
   "display_name": "Python 3",
   "language": "python",
   "name": "python3"
  },
  "language_info": {
   "codemirror_mode": {
    "name": "ipython",
    "version": 3
   },
   "file_extension": ".py",
   "mimetype": "text/x-python",
   "name": "python",
   "nbconvert_exporter": "python",
   "pygments_lexer": "ipython3",
   "version": "3.7.4"
  }
 },
 "nbformat": 4,
 "nbformat_minor": 2
}
