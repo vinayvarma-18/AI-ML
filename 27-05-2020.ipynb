{
 "cells": [
  {
   "cell_type": "markdown",
   "metadata": {},
   "source": [
    "# Markdown Headings:"
   ]
  },
  {
   "cell_type": "markdown",
   "metadata": {},
   "source": [
    "# Python Programming\n",
    "## Python Programming\n",
    "### Python Programming\n",
    "#### Python Programming\n",
    "##### Python Programming\n",
    "###### Python Programming"
   ]
  },
  {
   "cell_type": "markdown",
   "metadata": {},
   "source": [
    "### List of Python Programming:(ordered List)\n",
    "1. Python\n",
    "2. java\n",
    "3. c\n",
    "4. c++\n",
    "5. .NET"
   ]
  },
  {
   "cell_type": "markdown",
   "metadata": {},
   "source": [
    "### List of Python Programming:(Unordered List)\n",
    "- Python\n",
    "- java\n",
    "- c\n",
    "- c++\n",
    "- .NET"
   ]
  },
  {
   "cell_type": "markdown",
   "metadata": {},
   "source": [
    "### Bold and italic\n",
    "\n",
    "**Python Programming**\n",
    "\n",
    "*Python Programming*"
   ]
  },
  {
   "cell_type": "markdown",
   "metadata": {},
   "source": [
    "## Linking URLs "
   ]
  },
  {
   "cell_type": "markdown",
   "metadata": {},
   "source": [
    "[click here](https://www.google.com/)"
   ]
  },
  {
   "cell_type": "markdown",
   "metadata": {},
   "source": [
    "## Inserting Images"
   ]
  },
  {
   "cell_type": "markdown",
   "metadata": {},
   "source": [
    "![image](https://i1.wp.com/www.sirfnews.com/wp-content/uploads/2019/12/2019-for-Virat-Kohli.jpg?fit=1200%2C800&ssl=1P)"
   ]
  },
  {
   "cell_type": "markdown",
   "metadata": {},
   "source": [
    "<img src=\"https://i1.wp.com/www.sirfnews.com/wp-content/uploads/2019/12/2019-for-Virat-Kohli.jpg?fit=1200%2C800&ssl=1\" height=200 width=200 >\n"
   ]
  },
  {
   "cell_type": "markdown",
   "metadata": {},
   "source": [
    "## Introduction to Python:\n",
    "\n",
    "1. Different paradigms\n",
    "2. Interpreted PL\n",
    "3. open source\n",
    "4. Object Oriented PL\n"
   ]
  },
  {
   "cell_type": "markdown",
   "metadata": {},
   "source": [
    "## Numeric Data types:\n",
    "1. int\n",
    "2. float\n",
    "3. Complex\n"
   ]
  },
  {
   "cell_type": "code",
   "execution_count": 1,
   "metadata": {},
   "outputs": [
    {
     "name": "stdout",
     "output_type": "stream",
     "text": [
      "<class 'int'> <class 'float'> <class 'complex'>\n"
     ]
    }
   ],
   "source": [
    "#example\n",
    "a = 10\n",
    "b =2.11\n",
    "c= 12 +8j\n",
    "print(type(a),type(b),type(c))"
   ]
  },
  {
   "cell_type": "code",
   "execution_count": 5,
   "metadata": {},
   "outputs": [
    {
     "name": "stdout",
     "output_type": "stream",
     "text": [
      "(10+13j)\n",
      "6.0\n",
      "8.0\n"
     ]
    }
   ],
   "source": [
    "c1 = 4+5j\n",
    "c2 = complex(6,8)\n",
    "print(c1+c2)\n",
    "print(c2.real)\n",
    "print(c2.imag)\n"
   ]
  },
  {
   "cell_type": "code",
   "execution_count": 8,
   "metadata": {},
   "outputs": [
    {
     "name": "stdout",
     "output_type": "stream",
     "text": [
      "ente the value of a 10\n",
      "ente the value of b 20\n",
      "30 -10,200,0.5\n"
     ]
    }
   ],
   "source": [
    "#input and output functions\n",
    "#input --> input()\n",
    "#output --> print()\n",
    "a= int(input(\"ente the value of a \"))\n",
    "b= int(input(\"ente the value of b \"))\n",
    "#end-->newline\n",
    "#sep -->space\n",
    "print(a+b,end=\" \")\n",
    "print(a-b,a*b,a/b,sep=\",\")"
   ]
  },
  {
   "cell_type": "code",
   "execution_count": 9,
   "metadata": {},
   "outputs": [
    {
     "name": "stdout",
     "output_type": "stream",
     "text": [
      "ente the value of a 10\n",
      "ente the value of b 20\n",
      "30\n",
      "-10\n",
      "200\n",
      "0.5\n",
      "10\n",
      "0\n",
      "100000000000000000000\n"
     ]
    }
   ],
   "source": [
    "##Arithmetic Operators\n",
    "\n",
    "a= int(input(\"ente the value of a \"))\n",
    "b= int(input(\"ente the value of b \"))\n",
    "\n",
    "print(a + b)\n",
    "print(a - b)\n",
    "print(a * b)\n",
    "print(a / b) #float quotient\n",
    "print(a % b)\n",
    "print(a // b) #int quotient\n",
    "print(a ** b)\n"
   ]
  },
  {
   "cell_type": "code",
   "execution_count": 11,
   "metadata": {},
   "outputs": [
    {
     "name": "stdout",
     "output_type": "stream",
     "text": [
      "ente the value of a 10\n",
      "ente the value of b 20\n",
      "True\n",
      "False\n",
      "True\n",
      "False\n",
      "False\n",
      "True\n"
     ]
    }
   ],
   "source": [
    "#Relational Operators : <,>,<=>=,==,!=\n",
    "\n",
    "a= int(input(\"ente the value of a \"))\n",
    "b= int(input(\"ente the value of b \"))\n",
    "\n",
    "print(a < b)\n",
    "print(a > b)\n",
    "print(a <= b)\n",
    "print(a >= b) \n",
    "print(a == b)\n",
    "print(a != b) \n"
   ]
  },
  {
   "cell_type": "code",
   "execution_count": 13,
   "metadata": {},
   "outputs": [
    {
     "name": "stdout",
     "output_type": "stream",
     "text": [
      "True\n",
      "True\n",
      "False\n"
     ]
    }
   ],
   "source": [
    "#Logical Operators: and,or,not\n",
    "# print(help('keywords')) --> gives the list of key words\n",
    "\n",
    "print(a<b and a>1)\n",
    "print(a<b or a>1)\n",
    "print(not a<b)"
   ]
  },
  {
   "cell_type": "code",
   "execution_count": 14,
   "metadata": {},
   "outputs": [
    {
     "name": "stdout",
     "output_type": "stream",
     "text": [
      "True\n",
      "False\n",
      "False\n",
      "True\n"
     ]
    }
   ],
   "source": [
    "#Membership Operators : in,not in\n",
    "\n",
    "list1 =[12,23,34,45,56,67]\n",
    "print(12 in list1)\n",
    "print(120 in list1)\n",
    "print(12 not in list1)\n",
    "print(120 not in list1)\n"
   ]
  },
  {
   "cell_type": "code",
   "execution_count": 24,
   "metadata": {},
   "outputs": [
    {
     "name": "stdout",
     "output_type": "stream",
     "text": [
      "a is greater than b\n"
     ]
    }
   ],
   "source": [
    "#conditional statements: if,else,elif\n",
    "a=4\n",
    "b=2\n",
    "if a < b:\n",
    "    print(\"a is less than b\")\n",
    "elif a > b:\n",
    "    print(\"a is greater than b\")\n",
    "else:\n",
    "    print(\"a equals to b\")"
   ]
  },
  {
   "cell_type": "code",
   "execution_count": 26,
   "metadata": {},
   "outputs": [
    {
     "name": "stdout",
     "output_type": "stream",
     "text": [
      "enter a value10\n",
      "enter b value20\n",
      "enter c value30\n",
      "c is largest 30\n"
     ]
    }
   ],
   "source": [
    "#Question : Find the largest of three numbers\n",
    "a = int(input(\"enter a value\"))\n",
    "b = int(input(\"enter b value\"))\n",
    "c = int(input(\"enter c value\"))\n",
    "if a>b and a>c:\n",
    "    print(\"a is largest\",a)\n",
    "elif b>c:\n",
    "    print(\"b is largestst\",b)\n",
    "else:\n",
    "    print(\"c is largest\",c)\n",
    "    "
   ]
  },
  {
   "cell_type": "code",
   "execution_count": 29,
   "metadata": {},
   "outputs": [
    {
     "name": "stdout",
     "output_type": "stream",
     "text": [
      "enter n value10\n",
      "1 2 3 4 5 6 7 8 9 10 "
     ]
    }
   ],
   "source": [
    "#Loops : While,for\n",
    "# print 1 to n values\n",
    "n = int(input(\"enter n value\"))\n",
    "i = 1\n",
    "while i<=n:\n",
    "    print(i,end=\" \")\n",
    "    i += 1 #i =i + 1"
   ]
  },
  {
   "cell_type": "code",
   "execution_count": null,
   "metadata": {},
   "outputs": [],
   "source": []
  }
 ],
 "metadata": {
  "kernelspec": {
   "display_name": "Python 3",
   "language": "python",
   "name": "python3"
  },
  "language_info": {
   "codemirror_mode": {
    "name": "ipython",
    "version": 3
   },
   "file_extension": ".py",
   "mimetype": "text/x-python",
   "name": "python",
   "nbconvert_exporter": "python",
   "pygments_lexer": "ipython3",
   "version": "3.7.4"
  }
 },
 "nbformat": 4,
 "nbformat_minor": 4
}
