{
 "cells": [
  {
   "cell_type": "markdown",
   "metadata": {},
   "source": [
    "## CSE-221710308039-VINAY"
   ]
  },
  {
   "cell_type": "code",
   "execution_count": 1,
   "metadata": {},
   "outputs": [
    {
     "name": "stdout",
     "output_type": "stream",
     "text": [
      "paper\n",
      "Enter a letter or word:e\n",
      "['?', '?', '?', 'e', '?']\n",
      "Enter a letter or word:p\n",
      "['p', '?', '?', 'e', '?']\n",
      "Enter a letter or word:p\n",
      "['p', '?', 'p', 'e', '?']\n",
      "Enter a letter or word:a\n",
      "['p', 'a', 'p', 'e', '?']\n",
      "Enter a letter or word:r\n",
      "['p', 'a', 'p', 'e', 'r']\n",
      "Hurray!!You won!!\n",
      "The word is  paper\n"
     ]
    }
   ],
   "source": [
    "import random\n",
    "lis=[\"pencil\",\"paper\",\"gamer\",\"poser\",\"dance\",\"chase\",\"master\",\"apple\",\"happy\",\"power\"]\n",
    "word = random.choice(lis)\n",
    "res=[\"?\",\"?\",\"?\",\"?\",\"?\"]\n",
    "lives=9 \n",
    "cnt=0\n",
    "k=0\n",
    "z=word\n",
    "print(z)\n",
    "while(lives>0):\n",
    "    a=input(\"Enter a letter or word:\")\n",
    "    if(len(a)>1):\n",
    "        if z==a:\n",
    "            print(\"Hurray!!You won!!\\nThe word is\",word)\n",
    "            break\n",
    "        else:\n",
    "            turns-=1\n",
    "            print(\"you have still \",lives,\" chances\")\n",
    "    else:\n",
    "        for i in word:\n",
    "            if(a==i):\n",
    "                cnt+=1\n",
    "                k+=1\n",
    "                ind=word.index(i)\n",
    "                break\n",
    "        if k==0:\n",
    "            turns-=1\n",
    "            print(\"you have still \",lives,\" chances\")\n",
    "            print(res)\n",
    "        else:\n",
    "            res.pop(ind)\n",
    "            word=word.replace(word[ind],\"1\",1)\n",
    "            res.insert(ind,a)\n",
    "            k=0\n",
    "            print(res)\n",
    "    if(cnt==5):\n",
    "        print(\"Hurray!!You won!!\\nThe word is \",z)\n",
    "        break\n",
    "if(lives==0):\n",
    "    print(\"You have lost the game\")\n"
   ]
  },
  {
   "cell_type": "code",
   "execution_count": null,
   "metadata": {},
   "outputs": [],
   "source": []
  },
  {
   "cell_type": "code",
   "execution_count": null,
   "metadata": {},
   "outputs": [],
   "source": []
  }
 ],
 "metadata": {
  "kernelspec": {
   "display_name": "Python 3",
   "language": "python",
   "name": "python3"
  },
  "language_info": {
   "codemirror_mode": {
    "name": "ipython",
    "version": 3
   },
   "file_extension": ".py",
   "mimetype": "text/x-python",
   "name": "python",
   "nbconvert_exporter": "python",
   "pygments_lexer": "ipython3",
   "version": "3.7.4"
  }
 },
 "nbformat": 4,
 "nbformat_minor": 2
}
