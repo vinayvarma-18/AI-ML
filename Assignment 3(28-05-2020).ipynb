{
 "cells": [
  {
   "cell_type": "code",
   "execution_count": 1,
   "metadata": {},
   "outputs": [
    {
     "name": "stdout",
     "output_type": "stream",
     "text": [
      "Enter the number of rows 5\n",
      " \n",
      "*  \n",
      "* *  \n",
      "* * *  \n",
      "* * * *  \n",
      "* * * * *  \n"
     ]
    }
   ],
   "source": [
    "rows = int(input(\"Enter the number of rows \"))\n",
    "rows =rows +1\n",
    "for num in range(rows):\n",
    "    for i in range(num):\n",
    "        print('*', end=\" \")  \n",
    "    print(\" \")"
   ]
  },
  {
   "cell_type": "code",
   "execution_count": 2,
   "metadata": {},
   "outputs": [
    {
     "name": "stdout",
     "output_type": "stream",
     "text": [
      "multiplication table of 5\n",
      "5 x 1 = 5\n",
      "5 x 2 = 10\n",
      "5 x 3 = 15\n",
      "5 x 4 = 20\n",
      "5 x 5 = 25\n",
      "5 x 6 = 30\n",
      "5 x 7 = 35\n",
      "5 x 8 = 40\n",
      "5 x 9 = 45\n",
      "5 x 10 = 50\n"
     ]
    }
   ],
   "source": [
    "# Display multiplication table of K. Take k value from user\n",
    "# Multiplication table (from 1 to 10) in Python\n",
    "\n",
    "k = int(input('multiplication table of '))\n",
    "for i in range(1, 11):\n",
    "    print(k,'x', i, '=', k*i)"
   ]
  },
  {
   "cell_type": "code",
   "execution_count": 3,
   "metadata": {},
   "outputs": [
    {
     "name": "stdout",
     "output_type": "stream",
     "text": [
      "a is :5\n",
      "b is :6\n",
      "c is :7\n",
      "roots are complex\n"
     ]
    }
   ],
   "source": [
    "#Roots of quadratic equation.Take the coefficients a,b,c from the user\n",
    "a=int(input('a is :'))\n",
    "b=int(input('b is :'))\n",
    "c=int(input('c is :'))\n",
    "d=((b**2)-4*a*c)\n",
    "if(d>0):\n",
    "    r1 = (-b + (((b**2)-4*a*c)**0.5))/(2*a)\n",
    "    r2 = (-b - (((b**2)-4*a*c)**0.5))/(2*a)\n",
    "    print('two real solutions')\n",
    "    print(r1)\n",
    "    print(r2)\n",
    "elif(d==0):\n",
    "    r1=r2=(-b/(2*a))\n",
    "    print('one real solution')\n",
    "    print(r1)\n",
    "else:\n",
    "    print('roots are complex')\n"
   ]
  },
  {
   "cell_type": "code",
   "execution_count": 4,
   "metadata": {},
   "outputs": [
    {
     "name": "stdout",
     "output_type": "stream",
     "text": [
      "please enter the no. in decimal format: 10\n",
      "The binary no. for 10 is =1010\n"
     ]
    }
   ],
   "source": [
    "# Convert a decimal number to Binary\n",
    "n=int(input('please enter the no. in decimal format: '))\n",
    "x=n\n",
    "k=[]\n",
    "while (n>0):\n",
    "    a=int(float(n%2))\n",
    "    k.append(a)\n",
    "    n=(n-a)/2\n",
    "k.append('=')\n",
    "string=\"\"\n",
    "for j in k[::-1]:\n",
    "    string=string+str(j)\n",
    "print(f'The binary no. for {x} is {string}')\n"
   ]
  },
  {
   "cell_type": "code",
   "execution_count": 5,
   "metadata": {},
   "outputs": [
    {
     "name": "stdout",
     "output_type": "stream",
     "text": [
      "How many terms? 7\n",
      "Fibonacci sequence:\n",
      "0\n",
      "1\n",
      "1\n",
      "2\n",
      "3\n",
      "5\n",
      "8\n"
     ]
    }
   ],
   "source": [
    "# Generate first N number of Fibonacci numbers. Take N value from the user\n",
    "\n",
    "nterms = int(input(\"How many terms? \"))\n",
    "n1, n2 = 0, 1\n",
    "count = 0\n",
    "if nterms <= 0:\n",
    "    print(\" enter a positive integer\")\n",
    "elif nterms == 1:\n",
    "    print(\"Fibonacci sequence upto\",nterms,\":\")\n",
    "    print(n1)\n",
    "else:\n",
    "    print(\"Fibonacci sequence:\")\n",
    "    while count < nterms:\n",
    "        print(n1)\n",
    "        nth = n1 + n2\n",
    "        n1 = n2\n",
    "        n2 = nth\n",
    "        count += 1"
   ]
  },
  {
   "cell_type": "code",
   "execution_count": null,
   "metadata": {},
   "outputs": [],
   "source": []
  }
 ],
 "metadata": {
  "kernelspec": {
   "display_name": "Python 3",
   "language": "python",
   "name": "python3"
  },
  "language_info": {
   "codemirror_mode": {
    "name": "ipython",
    "version": 3
   },
   "file_extension": ".py",
   "mimetype": "text/x-python",
   "name": "python",
   "nbconvert_exporter": "python",
   "pygments_lexer": "ipython3",
   "version": "3.7.4"
  }
 },
 "nbformat": 4,
 "nbformat_minor": 2
}
