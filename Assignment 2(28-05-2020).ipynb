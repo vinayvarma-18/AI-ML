{
 "cells": [
  {
   "cell_type": "markdown",
   "metadata": {},
   "source": [
    "## CSE-221710308039-VINAY "
   ]
  },
  {
   "cell_type": "code",
   "execution_count": 1,
   "metadata": {},
   "outputs": [
    {
     "name": "stdout",
     "output_type": "stream",
     "text": [
      "Enter the string :gitam123@$\n",
      "vowels: 2\n",
      "Consonants: 3\n",
      "Symbols : 5\n"
     ]
    }
   ],
   "source": [
    "#1.accept a string from the user and count no of vowels,consonants and special characters\n",
    "str = input(\"Enter the string :\")\n",
    "vow = 0\n",
    "cons = 0\n",
    "sp = 0\n",
    "str = str.lower()\n",
    "for i in range(0, len(str)):\n",
    "    if(str[i] == 'a'or str[i] == 'e' or str[i] == 'i'\n",
    "       or str[i] == 'o' or str[i] == 'u'):\n",
    "        vow = vow + 1\n",
    "    elif((str[i] >= 'a'and str[i] <= 'z')):\n",
    "            cons = cons + 1\n",
    "    else:\n",
    "         sp = sp + 1\n",
    "print(\"vowels:\" , vow)\n",
    "print(\"Consonants:\", cons)\n",
    "print(\"Symbols :\", sp)"
   ]
  },
  {
   "cell_type": "code",
   "execution_count": 2,
   "metadata": {},
   "outputs": [
    {
     "name": "stdout",
     "output_type": "stream",
     "text": [
      "enter string:  abbaaccbbaaa\n",
      "2\n"
     ]
    }
   ],
   "source": [
    "#2.count the no.of pairs of a in the given string.\n",
    "#string →  \"abbaaccbbaaa\"\n",
    "\n",
    "str=input(\"enter string:  \")\n",
    "print(str.count('aa'))"
   ]
  },
  {
   "cell_type": "code",
   "execution_count": 3,
   "metadata": {},
   "outputs": [
    {
     "name": "stdout",
     "output_type": "stream",
     "text": [
      "enter string:  ((((()()()))))()\n",
      "8\n"
     ]
    }
   ],
   "source": [
    "#3.string →  \"((((()()()))))()\"\n",
    "\n",
    "string=input(\"enter string:  \")\n",
    "cnt=0\n",
    "for i in string:\n",
    "    if(i =='('):\n",
    "            cnt+=1\n",
    "print(cnt)"
   ]
  },
  {
   "cell_type": "code",
   "execution_count": 1,
   "metadata": {},
   "outputs": [
    {
     "name": "stdout",
     "output_type": "stream",
     "text": [
      "enter a value:1\n",
      "enter b value:100\n",
      "18\n"
     ]
    }
   ],
   "source": [
    "#4.Read the input as two limits and Print the output as Palindrome count between the two limits\n",
    "\n",
    "cnt=0\n",
    "a=int(input(\"enter a value:\"))\n",
    "b=int(input(\"enter b value:\"))\n",
    "for i in range(a,b):\n",
    "     if str(i) == str(i)[::-1]:\n",
    "            cnt += 1\n",
    "print(cnt)"
   ]
  },
  {
   "cell_type": "code",
   "execution_count": null,
   "metadata": {},
   "outputs": [],
   "source": [
    "#5. Accept a number as an input and check whether the given number is palindrome or not\n",
    "\n",
    "n=int(input(\"enter number:\"))\n",
    "while True:\n",
    "    k = str(n)\n",
    "    if k == k[::-1]:\n",
    "        print(k)\n",
    "        break\n",
    "    else:\n",
    "      m = int(k[::-1])\n",
    "      n += m\n",
    "      print(k)"
   ]
  },
  {
   "cell_type": "code",
   "execution_count": 7,
   "metadata": {},
   "outputs": [
    {
     "name": "stdout",
     "output_type": "stream",
     "text": [
      "puboif\n"
     ]
    }
   ],
   "source": [
    "#6. input:orange  →   output : puboif\n",
    "string = 'orange'\n",
    "var=(chr(ord(string[0])+1))\n",
    "var1=(chr(ord(string[1])+3))\n",
    "var2=(chr(ord(string[2])+1))\n",
    "var3=(chr(ord(string[3])+1))\n",
    "var4=(chr(ord(string[4])+2))\n",
    "var5=(chr(ord(string[5])+1))\n",
    "string=var+var1+var2+var3+var4+var5\n",
    "print(string)"
   ]
  },
  {
   "cell_type": "code",
   "execution_count": 2,
   "metadata": {},
   "outputs": [
    {
     "name": "stdout",
     "output_type": "stream",
     "text": [
      "enter a string:Appli123cation456\n",
      "21\n"
     ]
    }
   ],
   "source": [
    "#7.Accept input as a string and display sum of digits as the output \n",
    "s=input(\"enter a string:\")\n",
    "sum=0\n",
    "for i in s:\n",
    "    if i.isdigit() == True:\n",
    "        y=int(i)\n",
    "        sum=sum+y\n",
    "print(sum)"
   ]
  },
  {
   "cell_type": "code",
   "execution_count": 3,
   "metadata": {},
   "outputs": [
    {
     "name": "stdout",
     "output_type": "stream",
     "text": [
      " 0.85\n",
      "B\n"
     ]
    }
   ],
   "source": [
    "#8.Write a program to prompt for a score between 0.0 and 1.0. If the score is out of range, print an error. \n",
    "#If the score is between 0.0 and 1.0, print a grade using the following table:\n",
    "\n",
    "score = float(input(\" \"))\n",
    "if score<0.0 or score>1.0 :\n",
    "    print(\"invalid score\")\n",
    "elif score>=0.9 :\n",
    "    print ('A')\n",
    "elif score>=0.8 :\n",
    "    print( 'B')\n",
    "elif score>=0.7 :\n",
    "    print( 'C')\n",
    "elif score>=0.6 :\n",
    "    print( 'D')\n",
    "else :\n",
    "    print( 'F')\n"
   ]
  },
  {
   "cell_type": "code",
   "execution_count": 4,
   "metadata": {},
   "outputs": [
    {
     "name": "stdout",
     "output_type": "stream",
     "text": [
      "fizzbuzz\n",
      "1\n",
      "2\n",
      "fizz\n",
      "4\n",
      "buzz\n",
      "fizz\n",
      "7\n",
      "8\n",
      "fizz\n",
      "buzz\n",
      "11\n",
      "fizz\n",
      "13\n",
      "14\n",
      "fizzbuzz\n",
      "16\n",
      "17\n",
      "fizz\n",
      "19\n",
      "buzz\n",
      "fizz\n",
      "22\n",
      "23\n",
      "fizz\n",
      "buzz\n",
      "26\n",
      "fizz\n",
      "28\n",
      "29\n",
      "fizzbuzz\n",
      "31\n",
      "32\n",
      "fizz\n",
      "34\n",
      "buzz\n",
      "fizz\n",
      "37\n",
      "38\n",
      "fizz\n",
      "buzz\n",
      "41\n",
      "fizz\n",
      "43\n",
      "44\n",
      "fizzbuzz\n",
      "46\n",
      "47\n",
      "fizz\n",
      "49\n",
      "buzz\n"
     ]
    }
   ],
   "source": [
    "#9.Write a Python program which iterates the integers from 1 to 50. \n",
    "#For multiples of three print \"Fizz\" instead of the number and for the multiples of five print \"Buzz\".\n",
    "#For numbers which are multiples of both three and five print \"FizzBuzz\".\n",
    "\n",
    "for fizzbuzz in range(51):\n",
    "    if fizzbuzz % 3 == 0 and fizzbuzz % 5 == 0:\n",
    "        print(\"fizzbuzz\")\n",
    "        continue\n",
    "    elif fizzbuzz % 3 == 0:\n",
    "        print(\"fizz\")\n",
    "        continue\n",
    "    elif fizzbuzz % 5 == 0:\n",
    "        print(\"buzz\")\n",
    "        continue\n",
    "    print(fizzbuzz)"
   ]
  },
  {
   "cell_type": "code",
   "execution_count": 5,
   "metadata": {},
   "outputs": [
    {
     "name": "stdout",
     "output_type": "stream",
     "text": [
      "enter a value:26\n",
      "enter b value:15\n",
      "enter c value:29\n",
      "26\n"
     ]
    }
   ],
   "source": [
    "#10.Write a Python program to find the median of three values.\n",
    "\n",
    "a=int(input(\"enter a value:\"))\n",
    "b=int(input(\"enter b value:\"))\n",
    "c=int(input(\"enter c value:\"))\n",
    "if b < a and a < c:\n",
    "    print(a)\n",
    "elif c < a and a < b:\n",
    "    print(a)\n",
    "    \n",
    "elif c < b and b < a:\n",
    "    print(b)\n",
    "elif a < b and b < c:\n",
    "    print(b)\n",
    "    \n",
    "elif b < c and c < a:\n",
    "    print(c)    \n",
    "elif a < c and c < b:\n",
    "    print(c)"
   ]
  },
  {
   "cell_type": "code",
   "execution_count": null,
   "metadata": {},
   "outputs": [],
   "source": []
  },
  {
   "cell_type": "code",
   "execution_count": null,
   "metadata": {},
   "outputs": [],
   "source": []
  }
 ],
 "metadata": {
  "kernelspec": {
   "display_name": "Python 3",
   "language": "python",
   "name": "python3"
  },
  "language_info": {
   "codemirror_mode": {
    "name": "ipython",
    "version": 3
   },
   "file_extension": ".py",
   "mimetype": "text/x-python",
   "name": "python",
   "nbconvert_exporter": "python",
   "pygments_lexer": "ipython3",
   "version": "3.7.4"
  }
 },
 "nbformat": 4,
 "nbformat_minor": 2
}
